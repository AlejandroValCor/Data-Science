{
 "cells": [
  {
   "cell_type": "markdown",
   "id": "b491cd26",
   "metadata": {},
   "source": [
    "# Step 5: Housing Prices\n",
    "\n",
    "You will build a model to predict housing prices.  The model will be deployed on an ongoing basis, to predict the price of a new house when a description is added to a website.  Here are four features that could be used as predictors.\n",
    "1. Size of the house (in square meters)\n",
    "2. Average sales price of homes in the same neighborhood\n",
    "3. Latitude and longitude of the house\n",
    "4. Whether the house has a basement\n",
    "\n",
    "You have historic data to train and validate the model.\n",
    "\n",
    "Which of the features is most likely to be a source of leakage?"
   ]
  },
  {
   "cell_type": "code",
   "execution_count": 9,
   "id": "f8afe6b2",
   "metadata": {},
   "outputs": [
    {
     "name": "stdout",
     "output_type": "stream",
     "text": [
      "Potential data leakage feature:  2  Because is a feature that changes over\n",
      "time and is fed back in the training model affecting already predicted values.\n"
     ]
    }
   ],
   "source": [
    "# Fill in the line below with one of 1, 2, 3 or 4.\n",
    "potential_leakage_feature = 2\n",
    "print(\"Potential data leakage feature: \", potential_leakage_feature, \" Because is a feature that changes over\\ntime and is fed back in the training model affecting already predicted values.\")"
   ]
  }
 ],
 "metadata": {
  "kernelspec": {
   "display_name": "Python 3",
   "language": "python",
   "name": "python3"
  },
  "language_info": {
   "codemirror_mode": {
    "name": "ipython",
    "version": 3
   },
   "file_extension": ".py",
   "mimetype": "text/x-python",
   "name": "python",
   "nbconvert_exporter": "python",
   "pygments_lexer": "ipython3",
   "version": "3.8.5"
  }
 },
 "nbformat": 4,
 "nbformat_minor": 5
}
