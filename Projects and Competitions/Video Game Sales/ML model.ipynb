{
 "cells": [
  {
   "cell_type": "code",
   "execution_count": 96,
   "id": "b9c34f16",
   "metadata": {},
   "outputs": [],
   "source": [
    "import pandas as pd\n",
    "import numpy as np\n",
    "from sklearn.model_selection import train_test_split\n",
    "\n",
    "# Getting the train dataset \n",
    "X = pd.read_csv('D:/Archivos Personales/Courses/Data Science/Projects and Competitions/Video Game Sales/vgsales.csv')\n",
    "\n",
    "# Remove any rows that may have NaN values in NA_Sales column.\n",
    "X.dropna(axis=0, subset=['NA_Sales'], inplace=True)\n",
    "\n",
    "# Assigning the target column to Y from X\n",
    "Y = X.NA_Sales\n",
    "\n",
    "# Splitting the dataset into training and validation subsets\n",
    "X_train_full, X_valid_full, y_train, y_valid = train_test_split(X, Y, train_size=0.8, test_size=0.2, random_state=0)"
   ]
  },
  {
   "cell_type": "code",
   "execution_count": 97,
   "id": "4266f1e1",
   "metadata": {},
   "outputs": [
    {
     "data": {
      "text/plain": [
       "Rank              0\n",
       "Name              0\n",
       "Platform          0\n",
       "Year            271\n",
       "Genre             0\n",
       "Publisher        58\n",
       "NA_Sales          0\n",
       "EU_Sales          0\n",
       "JP_Sales          0\n",
       "Other_Sales       0\n",
       "Global_Sales      0\n",
       "dtype: int64"
      ]
     },
     "execution_count": 97,
     "metadata": {},
     "output_type": "execute_result"
    }
   ],
   "source": [
    "# Review how many NaN values are per columns, to see if dropping a column can be an option.\n",
    "nanValuesPerColumn = X.isnull().sum()\n",
    "nanValuesPerColumn"
   ]
  },
  {
   "cell_type": "code",
   "execution_count": null,
   "id": "30a88981",
   "metadata": {},
   "outputs": [
    {
     "data": {
      "text/plain": [
       "Name         9677\n",
       "Platform       30\n",
       "Genre          12\n",
       "Publisher     522\n",
       "dtype: int64"
      ]
     },
     "execution_count": 98,
     "metadata": {},
     "output_type": "execute_result"
    }
   ],
   "source": [
    "# Get the categorical values in the dataset and see their cardinality\n",
    "categorical_columns = list(X_train_full.select_dtypes(include=['object']).columns)\n",
    "X_train_full[categorical_columns].nunique()"
   ]
  },
  {
   "cell_type": "code",
   "execution_count": null,
   "id": "079596c0",
   "metadata": {},
   "outputs": [],
   "source": [
    "# Posible opción para names\n",
    "from sklearn.feature_extraction.text import CountVectorizer\n",
    "\n",
    "vectorizer = CountVectorizer(max_features=50, stop_words='english')\n",
    "name_features = vectorizer.fit_transform(df['Name'].fillna(''))\n",
    "\n",
    "# Convertir a DataFrame para poder unirlo con el original\n",
    "import pandas as pd\n",
    "name_df = pd.DataFrame(name_features.toarray(), columns=vectorizer.get_feature_names_out())\n",
    "\n",
    "# Aplicar las 14 franquicias más conocidas y todas las otras other.\n",
    "\n",
    "franquicias_top = [\n",
    "    \"Mario\", \"Tetris\", \"Pokemon\", \"Call of Duty\", \"Grand Theft Auto\",\n",
    "    \"FIFA\", \"Wii\", \"The Sims\", \"Need for Speed\", \"Final Fantasy\",\n",
    "    \"Lego\", \"Zelda\", \"Assassin's Creed\", \"Madden NFL\", \"Minecraft\"\n",
    "]\n",
    "\n",
    "import re\n",
    "\n",
    "# Unir las franquicias en un solo patrón regex\n",
    "patron = '|'.join([re.escape(franq) for franq in franquicias_top])\n",
    "\n",
    "df['franchise'] = (\n",
    "    df['Name']\n",
    "    .str.extract(f'({patron})', flags=re.IGNORECASE, expand=False)\n",
    "    .fillna('Other')\n",
    ")\n",
    "\n",
    "# Normalizar nombre de franquicia (por si aparece en mayúsculas/minúsculas)\n",
    "df['franchise'] = df['franchise'].str.title()\n",
    "\n",
    "\n",
    "\n",
    "\n",
    "\n",
    "\n",
    "\n",
    "\n",
    "\n",
    "\n",
    "import re\n",
    "\n",
    "# Agregar la columna 'franchise' con las franquicias conocidas\n",
    "df['franchise'] = df['Name'].str.extract('(Mario|FIFA|Lego|Zelda|Final Fantasy|Pokemon|Castlevania|Gran Turismo|NBA|Sonic|Star Wars|Call of Duty)', \n",
    "                                         flags=re.IGNORECASE, expand=False)\n",
    "df['franchise'] = df['franchise'].fillna('Other')  # Para juegos que no coinciden\n",
    "\n",
    "# Convertir la columna 'franchise' a título (con la primera letra en mayúscula)\n",
    "df['franchise'] = df['franchise'].str.title()\n",
    "\n",
    "# Luego, podrías usar OneHotEncoding o Target Encoding sobre esta columna\n"
   ]
  },
  {
   "cell_type": "code",
   "execution_count": null,
   "id": "14c51cd8",
   "metadata": {},
   "outputs": [
    {
     "data": {
      "text/plain": [
       "Platform\n",
       "PS2     1758\n",
       "DS      1730\n",
       "Wii     1060\n",
       "PS3     1053\n",
       "X360    1026\n",
       "PSP      962\n",
       "PS       952\n",
       "PC       775\n",
       "XB       663\n",
       "GBA      649\n",
       "GC       448\n",
       "3DS      410\n",
       "PSV      320\n",
       "PS4      264\n",
       "N64      259\n",
       "SNES     185\n",
       "XOne     167\n",
       "SAT      137\n",
       "WiiU     113\n",
       "2600     107\n",
       "NES       80\n",
       "GB        76\n",
       "DC        40\n",
       "GEN       22\n",
       "NG        10\n",
       "SCD        4\n",
       "WS         4\n",
       "3DO        2\n",
       "PCFX       1\n",
       "GG         1\n",
       "Name: count, dtype: int64"
      ]
     },
     "execution_count": 99,
     "metadata": {},
     "output_type": "execute_result"
    }
   ],
   "source": [
    "# Analyze the quantity for each platform\n",
    "X_train_full['Platform'].value_counts()"
   ]
  },
  {
   "cell_type": "code",
   "execution_count": null,
   "id": "064be28e",
   "metadata": {},
   "outputs": [
    {
     "data": {
      "text/plain": [
       "Index(['PS2', 'DS', 'Wii', 'PS3', 'X360', 'PSP', 'PS', 'PC', 'XB', 'GBA', 'GC',\n",
       "       '3DS', 'PSV', 'PS4'],\n",
       "      dtype='object', name='Platform')"
      ]
     },
     "execution_count": 100,
     "metadata": {},
     "output_type": "execute_result"
    }
   ],
   "source": [
    "# Get only the 14 most common platforms\n",
    "X_train_full['Platform'].value_counts().nlargest(14).index"
   ]
  },
  {
   "cell_type": "code",
   "execution_count": null,
   "id": "3aa9ef23",
   "metadata": {},
   "outputs": [
    {
     "data": {
      "text/plain": [
       "PlatformReduced\n",
       "PS2      1758\n",
       "DS       1730\n",
       "Other    1208\n",
       "Wii      1060\n",
       "PS3      1053\n",
       "X360     1026\n",
       "PSP       962\n",
       "PS        952\n",
       "PC        775\n",
       "XB        663\n",
       "GBA       649\n",
       "GC        448\n",
       "3DS       410\n",
       "PSV       320\n",
       "PS4       264\n",
       "Name: count, dtype: int64"
      ]
     },
     "execution_count": 101,
     "metadata": {},
     "output_type": "execute_result"
    }
   ],
   "source": [
    "# Get the 14 most common platforms and for all others assign 'Other' ending with a 15 cardinality.\n",
    "topPlatforms = list(X_train_full['Platform'].value_counts().nlargest(14).index)\n",
    "X_train_full['PlatformReduced'] = X_train_full['Platform'].apply(lambda x: x if x in topPlatforms else 'Other')\n",
    "X_train_full['PlatformReduced'].value_counts()"
   ]
  },
  {
   "cell_type": "code",
   "execution_count": null,
   "id": "55112837",
   "metadata": {},
   "outputs": [],
   "source": [
    "# Repeat the same as platform but for publisher\n",
    "top_publishers = df['Publisher'].value_counts().nlargest(20).index\n",
    "df['Publisher_reduced'] = df['Publisher'].apply(lambda x: x if x in top_publishers else 'Other')"
   ]
  },
  {
   "cell_type": "code",
   "execution_count": 42,
   "id": "c2bc99cc",
   "metadata": {},
   "outputs": [
    {
     "data": {
      "text/plain": [
       "Publisher\n",
       "Electronic Arts                 1082\n",
       "Activision                       788\n",
       "Namco Bandai Games               748\n",
       "Ubisoft                          735\n",
       "Konami Digital Entertainment     671\n",
       "                                ... \n",
       "Men-A-Vision                       1\n",
       "Tetris Online                      1\n",
       "fonfun                             1\n",
       "FuRyu Corporation                  1\n",
       "Yamasa Entertainment               1\n",
       "Name: count, Length: 522, dtype: int64"
      ]
     },
     "execution_count": 42,
     "metadata": {},
     "output_type": "execute_result"
    }
   ],
   "source": [
    "X_train_full['Publisher'].value_counts()"
   ]
  }
 ],
 "metadata": {
  "kernelspec": {
   "display_name": "Python 3",
   "language": "python",
   "name": "python3"
  },
  "language_info": {
   "codemirror_mode": {
    "name": "ipython",
    "version": 3
   },
   "file_extension": ".py",
   "mimetype": "text/x-python",
   "name": "python",
   "nbconvert_exporter": "python",
   "pygments_lexer": "ipython3",
   "version": "3.8.5"
  }
 },
 "nbformat": 4,
 "nbformat_minor": 5
}
